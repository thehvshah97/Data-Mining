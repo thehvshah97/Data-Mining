{
 "cells": [
  {
   "cell_type": "code",
   "execution_count": 15,
   "metadata": {},
   "outputs": [],
   "source": [
    "import pandas as pd\n",
    "import numpy as np\n",
    "from datetime import timedelta\n",
    "from scipy.fftpack import fft, ifft,rfft\n",
    "from sklearn.utils import shuffle\n",
    "from sklearn.tree import DecisionTreeClassifier\n",
    "from sklearn.model_selection import KFold\n",
    "from joblib import dump, load\n",
    "import pickle"
   ]
  },
  {
   "cell_type": "code",
   "execution_count": 16,
   "metadata": {},
   "outputs": [],
   "source": [
    "data = pd.read_csv('test.csv',header=None)"
   ]
  },
  {
   "cell_type": "code",
   "execution_count": 17,
   "metadata": {},
   "outputs": [],
   "source": [
    "def create_no_meal_feature_matrix(non_meal_data):\n",
    "    non_meal_data['tau_time'] = (24 - non_meal_data.iloc[:,0:19].idxmax(axis=1)) * 5\n",
    "    non_meal_data['difference_in_glucose_normalized'] = (non_meal_data.iloc[:,0:19].max(axis=1) - non_meal_data.iloc[:,24]) / (non_meal_data.iloc[:,24])\n",
    "    power_at_first_max = []\n",
    "    index_of_first_max = []\n",
    "    power_at_second_max = []\n",
    "    index_of_second_max = []\n",
    "    for i in range(len(non_meal_data)):\n",
    "        array = abs(rfft(non_meal_data.iloc[:,0:24].iloc[i].values.tolist())).tolist()\n",
    "        sorted_array = abs(rfft(non_meal_data.iloc[:,0:24].iloc[i].values.tolist())).tolist()\n",
    "        sorted_array.sort()\n",
    "        power_at_first_max.append(sorted_array[-2])\n",
    "        power_at_second_max.append(sorted_array[-3])\n",
    "        index_of_first_max.append(array.index(sorted_array[-2]))\n",
    "        index_of_second_max.append(array.index(sorted_array[-3]))\n",
    "    first_differential = []\n",
    "    second_differential = []\n",
    "    for i in range(len(non_meal_data)):\n",
    "        first_differential.append(np.diff(non_meal_data.iloc[:,0:24].iloc[i].tolist()).max())\n",
    "        second_differential.append(np.diff(np.diff(non_meal_data.iloc[:,0:24].iloc[i].tolist())).max())\n",
    "    no_meal_feature_matrix = pd.DataFrame({\n",
    "        'tau_time': non_meal_data['tau_time'],\n",
    "        'difference_in_glucose_normalized': non_meal_data['difference_in_glucose_normalized'],\n",
    "        'power_at_first_max': power_at_first_max,\n",
    "        'power_at_second_max': power_at_second_max,\n",
    "        'index_of_first_max': index_of_first_max,\n",
    "        'index_of_second_max': index_of_second_max,\n",
    "        'first_differential': first_differential,\n",
    "        'second_differential': second_differential,\n",
    "    })\n",
    "    return no_meal_feature_matrix"
   ]
  },
  {
   "cell_type": "code",
   "execution_count": 18,
   "metadata": {},
   "outputs": [],
   "source": [
    "dataset = create_no_meal_feature_matrix(data)"
   ]
  },
  {
   "cell_type": "code",
   "execution_count": 19,
   "metadata": {},
   "outputs": [],
   "source": [
    "from joblib import dump, load\n",
    "with open('DecisionTreeClassifier.pickle', 'rb') as model:\n",
    "    file = load(model)\n",
    "    predictions = file.predict(dataset)    \n",
    "    model.close()"
   ]
  },
  {
   "cell_type": "code",
   "execution_count": 20,
   "metadata": {},
   "outputs": [],
   "source": [
    "pd.DataFrame(predictions).to_csv('Result.csv',index=False,header=False)"
   ]
  },
  {
   "cell_type": "code",
   "execution_count": null,
   "metadata": {},
   "outputs": [],
   "source": []
  }
 ],
 "metadata": {
  "kernelspec": {
   "display_name": "Python 3",
   "language": "python",
   "name": "python3"
  },
  "language_info": {
   "codemirror_mode": {
    "name": "ipython",
    "version": 3
   },
   "file_extension": ".py",
   "mimetype": "text/x-python",
   "name": "python",
   "nbconvert_exporter": "python",
   "pygments_lexer": "ipython3",
   "version": "3.8.5"
  }
 },
 "nbformat": 4,
 "nbformat_minor": 4
}
