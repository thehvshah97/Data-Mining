{
 "cells": [
  {
   "cell_type": "code",
   "execution_count": 1,
   "metadata": {},
   "outputs": [],
   "source": [
    "import pandas as pd\n",
    "import numpy as np\n",
    "from datetime import timedelta\n",
    "from scipy.fftpack import fft, ifft,rfft\n",
    "from sklearn.utils import shuffle\n",
    "from sklearn.tree import DecisionTreeClassifier\n",
    "from sklearn.svm import SVC\n",
    "from sklearn.pipeline import make_pipeline\n",
    "from sklearn.preprocessing import StandardScaler\n",
    "from sklearn.model_selection import KFold, RepeatedKFold\n",
    "from joblib import dump, load\n",
    "from sklearn.metrics import f1_score\n",
    "from sklearn.metrics import precision_score\n",
    "from sklearn.metrics import recall_score\n",
    "from sklearn.metrics import accuracy_score"
   ]
  },
  {
   "cell_type": "code",
   "execution_count": 2,
   "metadata": {},
   "outputs": [],
   "source": [
    "insulin1_df=pd.read_csv('InsulinData.csv',low_memory=False,usecols=['Date','Time','BWZ Carb Input (grams)'])\n",
    "cgm1_df=pd.read_csv('CGMData.csv',low_memory=False,usecols=['Date','Time','Sensor Glucose (mg/dL)'])"
   ]
  },
  {
   "cell_type": "code",
   "execution_count": 3,
   "metadata": {},
   "outputs": [],
   "source": [
    "insulin1_df['date_time_stamp']=pd.to_datetime(insulin1_df['Date'] + ' ' + insulin1_df['Time'])\n",
    "cgm1_df['date_time_stamp']=pd.to_datetime(cgm1_df['Date'] + ' ' + cgm1_df['Time'])"
   ]
  },
  {
   "cell_type": "code",
   "execution_count": 4,
   "metadata": {},
   "outputs": [],
   "source": [
    "insulin2_df=pd.read_csv('Insulin_patient2.csv',low_memory=False,usecols=['Date','Time','BWZ Carb Input (grams)'])\n",
    "cgm2_df=pd.read_csv('CGM_patient2.csv',low_memory=False,usecols=['Date','Time','Sensor Glucose (mg/dL)'])"
   ]
  },
  {
   "cell_type": "code",
   "execution_count": 5,
   "metadata": {},
   "outputs": [],
   "source": [
    "insulin2_df['date_time_stamp']=pd.to_datetime(insulin2_df['Date'] + ' ' + insulin2_df['Time'])\n",
    "cgm2_df['date_time_stamp']=pd.to_datetime(cgm2_df['Date'] + ' ' + cgm2_df['Time'])"
   ]
  },
  {
   "cell_type": "code",
   "execution_count": 6,
   "metadata": {},
   "outputs": [],
   "source": [
    "def mealDataExtraction(insulin_df, cgm_df, date_identifier):\n",
    "    insulin_df = insulin_df.set_index('date_time_stamp')\n",
    "    valid_timestamps = []\n",
    "    find_carb_inputs = insulin_df.sort_values(by='date_time_stamp', ascending=True).dropna().reset_index()\n",
    "    find_carb_inputs['BWZ Carb Input (grams)'].replace(0.0, np.nan, inplace=True)\n",
    "    find_carb_inputs = find_carb_inputs.dropna().reset_index().drop(columns='index')\n",
    "    \n",
    "    for i, timestamp in enumerate(find_carb_inputs['date_time_stamp']):\n",
    "        try:\n",
    "            time_diff = (find_carb_inputs['date_time_stamp'][i+1] - timestamp).seconds / 60.0\n",
    "            if find_carb_inputs.loc[i, 'BWZ Carb Input (grams)'] > 0 and time_diff >= 120:\n",
    "                valid_timestamps.append(timestamp)\n",
    "        except KeyError:\n",
    "            pass\n",
    "    \n",
    "    meal_data = []\n",
    "    if date_identifier == 1:\n",
    "        for timestamp in valid_timestamps:\n",
    "            start = pd.to_datetime(timestamp - timedelta(minutes=30))\n",
    "            end = pd.to_datetime(timestamp + timedelta(minutes=120))\n",
    "            date_str = timestamp.date().strftime('%#m/%#d/%Y')\n",
    "            meal_data.append(cgm_df.loc[cgm_df['Date'] == date_str].set_index('date_time_stamp').between_time(start_time=start.strftime('%#H:%#M:%#S'),end_time=end.strftime('%#H:%#M:%#S'))['Sensor Glucose (mg/dL)'].values.tolist())\n",
    "        return pd.DataFrame(meal_data)\n",
    "    else:\n",
    "        for timestamp in valid_timestamps:\n",
    "            start = pd.to_datetime(timestamp - timedelta(minutes=30))\n",
    "            end = pd.to_datetime(timestamp + timedelta(minutes=120))\n",
    "            date_str = timestamp.date().strftime('%Y-%m-%d')\n",
    "            meal_data.append(cgm_df.loc[cgm_df['Date'] == date_str].set_index('date_time_stamp').between_time(start_time=start.strftime('%H:%M:%S'),end_time=end.strftime('%H:%M:%S'))['Sensor Glucose (mg/dL)'].values.tolist())\n",
    "        return pd.DataFrame(meal_data)"
   ]
  },
  {
   "cell_type": "code",
   "execution_count": 7,
   "metadata": {},
   "outputs": [
    {
     "name": "stdout",
     "output_type": "stream",
     "text": [
      "        0      1      2      3      4      5      6      7      8      9   \\\n",
      "0    312.0  311.0  311.0  311.0  309.0  310.0  314.0    NaN    NaN    NaN   \n",
      "1    196.0  203.0  198.0  195.0  190.0  184.0  178.0  169.0  164.0  168.0   \n",
      "2    278.0  283.0  284.0  274.0  267.0  267.0  269.0  274.0  277.0  270.0   \n",
      "3     81.0   77.0   74.0   67.0   70.0   72.0   74.0   75.0   71.0   67.0   \n",
      "4    209.0  210.0  209.0  210.0  210.0  213.0  216.0  212.0  213.0  210.0   \n",
      "..     ...    ...    ...    ...    ...    ...    ...    ...    ...    ...   \n",
      "598  202.0  197.0  191.0  185.0  197.0  206.0  209.0  207.0  174.0  168.0   \n",
      "599  208.0  215.0  212.0  206.0  203.0  196.0  190.0  180.0  184.0  180.0   \n",
      "600  107.0  106.0  123.0  128.0  137.0  147.0  145.0  142.0    NaN    NaN   \n",
      "601  177.0  194.0  200.0  201.0  189.0  162.0  166.0  173.0  176.0  169.0   \n",
      "602    NaN   93.0   92.0   86.0   84.0   80.0   87.0   98.0  105.0  113.0   \n",
      "\n",
      "     ...     20     21     22     23     24     25     26     27     28     29  \n",
      "0    ...    NaN    NaN    NaN    NaN    NaN    NaN    NaN    NaN    NaN    NaN  \n",
      "1    ...  153.0  147.0  140.0  131.0  102.0   81.0   71.0   63.0   59.0   58.0  \n",
      "2    ...  220.0  231.0  241.0  248.0  255.0  259.0  268.0  281.0  292.0  304.0  \n",
      "3    ...  112.0  100.0   87.0   83.0   71.0   60.0   40.0   40.0   40.0   40.0  \n",
      "4    ...  183.0  188.0  194.0  201.0  201.0  199.0  200.0  204.0  210.0  212.0  \n",
      "..   ...    ...    ...    ...    ...    ...    ...    ...    ...    ...    ...  \n",
      "598  ...  141.0  135.0  133.0  126.0  110.0  104.0   74.0   62.0   58.0   57.0  \n",
      "599  ...  200.0  201.0  211.0  215.0  217.0  216.0  221.0  221.0  219.0  209.0  \n",
      "600  ...    NaN    NaN    NaN    NaN    NaN    NaN    NaN    NaN    NaN    NaN  \n",
      "601  ...  132.0  120.0  127.0  129.0  132.0  123.0  104.0  100.0  107.0  106.0  \n",
      "602  ...   46.0   46.0   41.0   41.0   52.0   51.0   60.0   69.0   80.0   89.0  \n",
      "\n",
      "[603 rows x 30 columns]\n"
     ]
    }
   ],
   "source": [
    "meal_data1 = mealDataExtraction(insulin1_df, cgm1_df, 1)\n",
    "meal_data2 = mealDataExtraction(insulin2_df, cgm2_df, 2)\n",
    "meal_data1 = meal_data1.iloc[:,0:30]\n",
    "meal_data2 = meal_data2.iloc[:,0:30]\n",
    "print(meal_data1)"
   ]
  },
  {
   "cell_type": "code",
   "execution_count": 36,
   "metadata": {},
   "outputs": [],
   "source": [
    "def noMealDataExtraction(insulin_data, cgm_data):\n",
    "    insulin_no_meal = insulin_data.copy()\n",
    "    insulin_no_meal = insulin_no_meal.sort_values(by='date_time_stamp', ascending=True).replace(0.0,np.nan).dropna().copy()\n",
    "    insulin_no_meal = insulin_no_meal.reset_index().drop(columns='index')\n",
    "    valid_timestamps = []\n",
    "    for i, timestamp in enumerate(insulin_no_meal['date_time_stamp']):\n",
    "        try:\n",
    "            time_diff = (insulin_no_meal['date_time_stamp'][i+1]-timestamp).seconds // 3600\n",
    "            if time_diff >= 4:\n",
    "                valid_timestamps.append(timestamp)\n",
    "        except KeyError:\n",
    "            pass\n",
    "    \n",
    "    no_meal_data = []\n",
    "    for i, timestamp in enumerate(valid_timestamps):\n",
    "        counter = 1\n",
    "        try:\n",
    "            length = len(cgm_data.loc[(cgm_data['date_time_stamp'] >= valid_timestamps[i]+pd.Timedelta(minutes=120))&(cgm_data['date_time_stamp'] < valid_timestamps[i+1])]) // 24\n",
    "            while counter <= length:\n",
    "                if counter == 1:\n",
    "                    no_meal_data.append(cgm_data.loc[(cgm_data['date_time_stamp'] >= valid_timestamps[i]+pd.Timedelta(minutes=120))&(cgm_data['date_time_stamp'] < valid_timestamps[i+1])]['Sensor Glucose (mg/dL)'][:counter*24].values.tolist())\n",
    "                    counter += 1\n",
    "                else:\n",
    "                    no_meal_data.append(cgm_data.loc[(cgm_data['date_time_stamp'] >= valid_timestamps[i]+pd.Timedelta(minutes=120))&(cgm_data['date_time_stamp'] < valid_timestamps[i+1])]['Sensor Glucose (mg/dL)'][(counter-1)*24:(counter)*24].values.tolist())\n",
    "                    counter += 1\n",
    "        except IndexError:\n",
    "            break\n",
    "    return pd.DataFrame(no_meal_data)"
   ]
  },
  {
   "cell_type": "code",
   "execution_count": 37,
   "metadata": {},
   "outputs": [],
   "source": [
    "no_meal_data1 = noMealDataExtraction(insulin1_df, cgm1_df)\n",
    "no_meal_data2 = noMealDataExtraction(insulin2_df, cgm2_df)"
   ]
  },
  {
   "cell_type": "code",
   "execution_count": 28,
   "metadata": {},
   "outputs": [],
   "source": [
    "def create_meal_feature_matrix(meal_data):\n",
    "    cleaned_data = meal_data.drop(meal_data.isna().sum(axis=1).replace(0, np.nan).dropna().where(lambda x: x > 6).dropna().index).reset_index().drop(columns='index')\n",
    "    cleaned_data = cleaned_data.interpolate(method='linear', axis=1)\n",
    "    index_to_drop = cleaned_data.isna().sum(axis=1).replace(0, np.nan).dropna().index\n",
    "    cleaned_data = cleaned_data.drop(meal_data.index[index_to_drop]).reset_index().drop(columns='index')\n",
    "    tau_time = (cleaned_data.iloc[:, 22:25].idxmin(axis=1) - cleaned_data.iloc[:, 5:19].idxmax(axis=1)) * 5\n",
    "    difference_in_glucose_normalized = (cleaned_data.iloc[:, 5:19].max(axis=1) - cleaned_data.iloc[:, 22:25].min(axis=1)) / (cleaned_data.iloc[:, 22:25].min(axis=1))\n",
    "    cleaned_data = cleaned_data.dropna().reset_index().drop(columns='index') \n",
    "    power_at_first_max = []\n",
    "    index_of_first_max = []\n",
    "    power_at_second_max = []\n",
    "    index_of_second_max = []\n",
    "    for i in range(len(cleaned_data)):\n",
    "        fft_results = abs(rfft(cleaned_data.iloc[:, 0:30].iloc[i].values.tolist())).tolist()\n",
    "        sorted_fft_results = fft_results.copy()\n",
    "        sorted_fft_results.sort()\n",
    "        power_at_first_max.append(sorted_fft_results[-2])\n",
    "        power_at_second_max.append(sorted_fft_results[-3])\n",
    "        index_of_first_max.append(fft_results.index(sorted_fft_results[-2]))\n",
    "        index_of_second_max.append(fft_results.index(sorted_fft_results[-3]))\n",
    "    \n",
    "    maximum = cleaned_data.iloc[:, 5:19].idxmax(axis=1)\n",
    "    tm = cleaned_data.iloc[:, 22:25].idxmin(axis=1)\n",
    "    first_differential = []\n",
    "    second_differential = []\n",
    "    for i in range(len(cleaned_data)):\n",
    "        data = cleaned_data.iloc[:, maximum[i]:tm[i]].iloc[i].tolist()\n",
    "        first_differential.append(np.diff(data).max())\n",
    "        second_differential.append(np.diff(np.diff(data)).max())\n",
    "    \n",
    "    meal_feature_matrix = pd.DataFrame({\n",
    "        'tau_time': tau_time,\n",
    "        'difference_in_glucose_normalized': difference_in_glucose_normalized,\n",
    "        'power_at_first_max': power_at_first_max,\n",
    "        'power_at_second_max': power_at_second_max,\n",
    "        'index_of_first_max': index_of_first_max,\n",
    "        'index_of_second_max': index_of_second_max,\n",
    "        'first_differential': first_differential,\n",
    "        'second_differential': second_differential,\n",
    "    })\n",
    "    \n",
    "    return meal_feature_matrix\n"
   ]
  },
  {
   "cell_type": "code",
   "execution_count": 29,
   "metadata": {},
   "outputs": [],
   "source": [
    "meal_feature_matrix1 = create_meal_feature_matrix(meal_data1)\n",
    "meal_feature_matrix2 = create_meal_feature_matrix(meal_data2)\n",
    "meal_feature_matrix = pd.concat([meal_feature_matrix1, meal_feature_matrix2]).reset_index().drop(columns='index')"
   ]
  },
  {
   "cell_type": "code",
   "execution_count": 30,
   "metadata": {},
   "outputs": [],
   "source": [
    "def create_no_meal_feature_matrix(non_meal_data):\n",
    "    index_to_remove = non_meal_data.isna().sum(axis=1).replace(0,np.nan).dropna().where(lambda x:x>5).dropna().index\n",
    "    non_meal_data_cleaned = non_meal_data.drop(non_meal_data.index[index_to_remove]).reset_index().drop(columns='index')\n",
    "    non_meal_data_cleaned = non_meal_data_cleaned.interpolate(method='linear',axis=1)\n",
    "    index_to_drop_again = non_meal_data_cleaned.isna().sum(axis=1).replace(0,np.nan).dropna().index\n",
    "    non_meal_data_cleaned = non_meal_data_cleaned.drop(non_meal_data_cleaned.index[index_to_drop_again]).reset_index().drop(columns='index')\n",
    "    non_meal_data_cleaned['tau_time'] = (24 - non_meal_data_cleaned.iloc[:,0:19].idxmax(axis=1)) * 5\n",
    "    non_meal_data_cleaned['difference_in_glucose_normalized'] = (non_meal_data_cleaned.iloc[:,0:19].max(axis=1) - non_meal_data_cleaned.iloc[:,24]) / (non_meal_data_cleaned.iloc[:,24])\n",
    "    power_at_first_max = []\n",
    "    index_of_first_max = []\n",
    "    power_at_second_max = []\n",
    "    index_of_second_max = []\n",
    "    for i in range(len(non_meal_data_cleaned)):\n",
    "        array = abs(rfft(non_meal_data_cleaned.iloc[:,0:24].iloc[i].values.tolist())).tolist()\n",
    "        sorted_array = abs(rfft(non_meal_data_cleaned.iloc[:,0:24].iloc[i].values.tolist())).tolist()\n",
    "        sorted_array.sort()\n",
    "        power_at_first_max.append(sorted_array[-2])\n",
    "        power_at_second_max.append(sorted_array[-3])\n",
    "        index_of_first_max.append(array.index(sorted_array[-2]))\n",
    "        index_of_second_max.append(array.index(sorted_array[-3]))\n",
    "    first_differential = []\n",
    "    second_differential = []\n",
    "    for i in range(len(non_meal_data_cleaned)):\n",
    "        first_differential.append(np.diff(non_meal_data_cleaned.iloc[:,0:24].iloc[i].tolist()).max())\n",
    "        second_differential.append(np.diff(np.diff(non_meal_data_cleaned.iloc[:,0:24].iloc[i].tolist())).max())\n",
    "    no_meal_feature_matrix = pd.DataFrame({\n",
    "        'tau_time': non_meal_data_cleaned['tau_time'],\n",
    "        'difference_in_glucose_normalized': non_meal_data_cleaned['difference_in_glucose_normalized'],\n",
    "        'power_at_first_max': power_at_first_max,\n",
    "        'power_at_second_max': power_at_second_max,\n",
    "        'index_of_first_max': index_of_first_max,\n",
    "        'index_of_second_max': index_of_second_max,\n",
    "        'first_differential': first_differential,\n",
    "        'second_differential': second_differential,\n",
    "    })\n",
    "    return no_meal_feature_matrix"
   ]
  },
  {
   "cell_type": "code",
   "execution_count": 31,
   "metadata": {},
   "outputs": [],
   "source": [
    "non_meal_feature_matrix1 = create_no_meal_feature_matrix(no_meal_data1)\n",
    "non_meal_feature_matrix2 = create_no_meal_feature_matrix(no_meal_data2)\n",
    "non_meal_feature_matrix = pd.concat([non_meal_feature_matrix1, non_meal_feature_matrix2]).reset_index().drop(columns='index')"
   ]
  },
  {
   "cell_type": "code",
   "execution_count": 32,
   "metadata": {},
   "outputs": [
    {
     "data": {
      "text/plain": [
       "['DecisionTreeClassifier.pickle']"
      ]
     },
     "execution_count": 32,
     "metadata": {},
     "output_type": "execute_result"
    }
   ],
   "source": [
    "meal_feature_matrix['label'] = 1\n",
    "non_meal_feature_matrix['label'] = 0\n",
    "total_data = pd.concat([meal_feature_matrix, non_meal_feature_matrix]).reset_index().drop(columns='index')\n",
    "dataset = shuffle(total_data, random_state=1).reset_index().drop(columns='index')\n",
    "kfold = KFold(n_splits=10, shuffle=True, random_state=1)\n",
    "principaldata = dataset.drop(columns='label')\n",
    "accuracy = []\n",
    "precision = []\n",
    "recall = []\n",
    "f1score = []\n",
    "model = DecisionTreeClassifier(criterion=\"entropy\")\n",
    "for train_index, test_index in kfold.split(principaldata):\n",
    "    data_train, data_test, label_train, label_test = principaldata.loc[train_index],principaldata.loc[test_index], dataset.label.loc[train_index],dataset.label.loc[test_index]\n",
    "    model.fit(data_train, label_train)\n",
    "    predictions = model.predict(data_test)\n",
    "    accuracy.append(accuracy_score(label_test, predictions)*100)\n",
    "    precision.append(precision_score(label_test, predictions)*100)\n",
    "    recall.append(recall_score(label_test, predictions)*100)\n",
    "    f1score.append(f1_score(label_test, predictions)*100)\n",
    "dump(model, 'DecisionTreeClassifier.pickle')"
   ]
  },
  {
   "cell_type": "code",
   "execution_count": 33,
   "metadata": {},
   "outputs": [
    {
     "name": "stdout",
     "output_type": "stream",
     "text": [
      "Accuracy: 97.55022574476057\n",
      "Precision: 95.3682799050088\n",
      "Recall: 95.3727766340643\n",
      "F1 Score: 95.34630587822393\n"
     ]
    }
   ],
   "source": [
    "print(\"Accuracy:\", np.mean(accuracy))\n",
    "print(\"Precision:\", np.mean(precision))\n",
    "print(\"Recall:\", np.mean(recall))\n",
    "print(\"F1 Score:\", np.mean(f1score))"
   ]
  },
  {
   "cell_type": "code",
   "execution_count": null,
   "metadata": {},
   "outputs": [],
   "source": []
  }
 ],
 "metadata": {
  "kernelspec": {
   "display_name": "Python 3",
   "language": "python",
   "name": "python3"
  },
  "language_info": {
   "codemirror_mode": {
    "name": "ipython",
    "version": 3
   },
   "file_extension": ".py",
   "mimetype": "text/x-python",
   "name": "python",
   "nbconvert_exporter": "python",
   "pygments_lexer": "ipython3",
   "version": "3.8.5"
  }
 },
 "nbformat": 4,
 "nbformat_minor": 4
}
