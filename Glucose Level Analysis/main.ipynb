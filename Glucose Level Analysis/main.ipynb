{
 "cells": [
  {
   "cell_type": "code",
   "execution_count": 67,
   "metadata": {},
   "outputs": [],
   "source": [
    "import numpy as np\n",
    "import pandas as pd"
   ]
  },
  {
   "cell_type": "code",
   "execution_count": 68,
   "metadata": {},
   "outputs": [],
   "source": [
    "#Read Data\n",
    "cgm=pd.read_csv('CGMData.csv',low_memory=False,usecols=['Date','Time','Sensor Glucose (mg/dL)'])\n",
    "insulin=pd.read_csv('InsulinData.csv',low_memory=False, usecols=['Date','Time','Alarm'])"
   ]
  },
  {
   "cell_type": "code",
   "execution_count": 69,
   "metadata": {},
   "outputs": [],
   "source": [
    "#Create Data Time Stamp columns\n",
    "cgm['data_time_stamp']=pd.to_datetime(cgm['Date'] + ' ' + cgm['Time'])\n",
    "insulin['data_time_stamp']=pd.to_datetime(insulin['Date'] + ' ' + insulin['Time'])"
   ]
  },
  {
   "cell_type": "code",
   "execution_count": 70,
   "metadata": {
    "scrolled": true
   },
   "outputs": [],
   "source": [
    "#Cleaning Data\n",
    "cgm.sort_values(by=['data_time_stamp'], ascending = True, inplace = True)\n",
    "insulin.sort_values(by=['data_time_stamp'], ascending = True, inplace = True) \n",
    "nan_dates=cgm[cgm['Sensor Glucose (mg/dL)'].isna()]['Date'].unique()\n",
    "cgm=cgm.set_index('Date').drop(index=nan_dates).reset_index()\n",
    "\n",
    "cgm_dates=cgm.groupby('Date')['Sensor Glucose (mg/dL)'].count().where(lambda x:x>0.8*288).dropna().index.tolist()\n",
    "cgm=cgm.loc[cgm['Date'].isin(cgm_dates)]"
   ]
  },
  {
   "cell_type": "code",
   "execution_count": 71,
   "metadata": {},
   "outputs": [],
   "source": [
    "auto_mode_start=insulin.loc[insulin['Alarm']=='AUTO MODE ACTIVE PLGM OFF'].iloc[0]['data_time_stamp']\n",
    "auto_mode_data=cgm.loc[cgm['data_time_stamp']>=auto_mode_start]\n",
    "manual_mode_data=cgm.loc[cgm['data_time_stamp']<auto_mode_start]\n",
    "cgm.set_index('data_time_stamp', inplace = True)\n",
    "auto_mode_data.set_index('data_time_stamp', inplace = True)\n",
    "manual_mode_data.set_index('data_time_stamp', inplace = True)"
   ]
  },
  {
   "cell_type": "code",
   "execution_count": 72,
   "metadata": {},
   "outputs": [],
   "source": [
    "#Part 1: Percent Time in Hyperglycemia\n",
    "hyperglycemia_wholeday_automode=(auto_mode_data.between_time('0:00:00','23:59:59')[['Date','Time','Sensor Glucose (mg/dL)']].loc[auto_mode_data['Sensor Glucose (mg/dL)']>180].groupby('Date')['Sensor Glucose (mg/dL)'].count()/288*100)\n",
    "hyperglycemia_daytime_automode=(auto_mode_data.between_time('6:00:00','23:59:59')[['Date','Time','Sensor Glucose (mg/dL)']].loc[auto_mode_data['Sensor Glucose (mg/dL)']>180].groupby('Date')['Sensor Glucose (mg/dL)'].count()/288*100)\n",
    "hyperglycemia_overnight_automode=(auto_mode_data.between_time('0:00:00','05:59:59')[['Date','Time','Sensor Glucose (mg/dL)']].loc[auto_mode_data['Sensor Glucose (mg/dL)']>180].groupby('Date')['Sensor Glucose (mg/dL)'].count()/288*100)\n",
    "\n",
    "hyperglycemia_wholeday_manualmode=(manual_mode_data.between_time('0:00:00','23:59:59')[['Date','Time','Sensor Glucose (mg/dL)']].loc[manual_mode_data['Sensor Glucose (mg/dL)']>180].groupby('Date')['Sensor Glucose (mg/dL)'].count()/288*100)\n",
    "hyperglycemia_daytime_manualmode=(manual_mode_data.between_time('6:00:00','23:59:59')[['Date','Time','Sensor Glucose (mg/dL)']].loc[manual_mode_data['Sensor Glucose (mg/dL)']>180].groupby('Date')['Sensor Glucose (mg/dL)'].count()/288*100)\n",
    "hyperglycemia_overnight_manualmode=(manual_mode_data.between_time('0:00:00','05:59:59')[['Date','Time','Sensor Glucose (mg/dL)']].loc[manual_mode_data['Sensor Glucose (mg/dL)']>180].groupby('Date')['Sensor Glucose (mg/dL)'].count()/288*100)"
   ]
  },
  {
   "cell_type": "code",
   "execution_count": 73,
   "metadata": {},
   "outputs": [],
   "source": [
    "#Part 2: Percent time in Hyperglycemia Critical\n",
    "hyperglycemia_critical_wholeday_automode=(auto_mode_data.between_time('0:00:00','23:59:59')[['Date','Time','Sensor Glucose (mg/dL)']].loc[auto_mode_data['Sensor Glucose (mg/dL)']>250].groupby('Date')['Sensor Glucose (mg/dL)'].count()/288*100)\n",
    "hyperglycemia_critical_daytime_automode=(auto_mode_data.between_time('6:00:00','23:59:59')[['Date','Time','Sensor Glucose (mg/dL)']].loc[auto_mode_data['Sensor Glucose (mg/dL)']>250].groupby('Date')['Sensor Glucose (mg/dL)'].count()/288*100)\n",
    "hyperglycemia_critical_overnight_automode=(auto_mode_data.between_time('0:00:00','05:59:59')[['Date','Time','Sensor Glucose (mg/dL)']].loc[auto_mode_data['Sensor Glucose (mg/dL)']>250].groupby('Date')['Sensor Glucose (mg/dL)'].count()/288*100)\n",
    "\n",
    "hyperglycemia_critical_wholeday_manualmode=(manual_mode_data.between_time('0:00:00','23:59:59')[['Date','Time','Sensor Glucose (mg/dL)']].loc[manual_mode_data['Sensor Glucose (mg/dL)']>250].groupby('Date')['Sensor Glucose (mg/dL)'].count()/288*100)\n",
    "hyperglycemia_critical_daytime_manualmode=(manual_mode_data.between_time('6:00:00','23:59:59')[['Date','Time','Sensor Glucose (mg/dL)']].loc[manual_mode_data['Sensor Glucose (mg/dL)']>250].groupby('Date')['Sensor Glucose (mg/dL)'].count()/288*100)\n",
    "hyperglycemia_critical_overnight_manualmode=(manual_mode_data.between_time('0:00:00','05:59:59')[['Date','Time','Sensor Glucose (mg/dL)']].loc[manual_mode_data['Sensor Glucose (mg/dL)']>250].groupby('Date')['Sensor Glucose (mg/dL)'].count()/288*100)"
   ]
  },
  {
   "cell_type": "code",
   "execution_count": 74,
   "metadata": {},
   "outputs": [],
   "source": [
    "#Part 3: Percent time in Range 1\n",
    "range_wholeday_automode=(auto_mode_data.between_time('0:00:00','23:59:59')[['Date','Time','Sensor Glucose (mg/dL)']].loc[(auto_mode_data['Sensor Glucose (mg/dL)']>=70) & (auto_mode_data['Sensor Glucose (mg/dL)']<=180)].groupby('Date')['Sensor Glucose (mg/dL)'].count()/288*100)\n",
    "range_daytime_automode=(auto_mode_data.between_time('6:00:00','23:59:59')[['Date','Time','Sensor Glucose (mg/dL)']].loc[(auto_mode_data['Sensor Glucose (mg/dL)']>=70) & (auto_mode_data['Sensor Glucose (mg/dL)']<=180)].groupby('Date')['Sensor Glucose (mg/dL)'].count()/288*100)\n",
    "range_overnight_automode=(auto_mode_data.between_time('0:00:00','05:59:59')[['Date','Time','Sensor Glucose (mg/dL)']].loc[(auto_mode_data['Sensor Glucose (mg/dL)']>=70) & (auto_mode_data['Sensor Glucose (mg/dL)']<=180)].groupby('Date')['Sensor Glucose (mg/dL)'].count()/288*100)\n",
    "\n",
    "range_wholeday_manualmode=(manual_mode_data.between_time('0:00:00','23:59:59')[['Date','Time','Sensor Glucose (mg/dL)']].loc[(manual_mode_data['Sensor Glucose (mg/dL)']>=70) & (manual_mode_data['Sensor Glucose (mg/dL)']<=180)].groupby('Date')['Sensor Glucose (mg/dL)'].count()/288*100)\n",
    "range_daytime_manualmode=(manual_mode_data.between_time('6:00:00','23:59:59')[['Date','Time','Sensor Glucose (mg/dL)']].loc[(manual_mode_data['Sensor Glucose (mg/dL)']>=70) & (manual_mode_data['Sensor Glucose (mg/dL)']<=180)].groupby('Date')['Sensor Glucose (mg/dL)'].count()/288*100)\n",
    "range_overnight_manualmode=(manual_mode_data.between_time('0:00:00','05:59:59')[['Date','Time','Sensor Glucose (mg/dL)']].loc[(manual_mode_data['Sensor Glucose (mg/dL)']>=70) & (manual_mode_data['Sensor Glucose (mg/dL)']<=180)].groupby('Date')['Sensor Glucose (mg/dL)'].count()/288*100)"
   ]
  },
  {
   "cell_type": "code",
   "execution_count": 75,
   "metadata": {},
   "outputs": [],
   "source": [
    "#Part 4: Percent time in Range Secondary\n",
    "range_secondary_wholeday_automode=(auto_mode_data.between_time('0:00:00','23:59:59')[['Date','Time','Sensor Glucose (mg/dL)']].loc[(auto_mode_data['Sensor Glucose (mg/dL)']>=70) & (auto_mode_data['Sensor Glucose (mg/dL)']<=150)].groupby('Date')['Sensor Glucose (mg/dL)'].count()/288*100)\n",
    "range_secondary_daytime_automode=(auto_mode_data.between_time('6:00:00','23:59:59')[['Date','Time','Sensor Glucose (mg/dL)']].loc[(auto_mode_data['Sensor Glucose (mg/dL)']>=70) & (auto_mode_data['Sensor Glucose (mg/dL)']<=150)].groupby('Date')['Sensor Glucose (mg/dL)'].count()/288*100)\n",
    "range_secondary_overnight_automode=(auto_mode_data.between_time('0:00:00','05:59:59')[['Date','Time','Sensor Glucose (mg/dL)']].loc[(auto_mode_data['Sensor Glucose (mg/dL)']>=70) & (auto_mode_data['Sensor Glucose (mg/dL)']<=150)].groupby('Date')['Sensor Glucose (mg/dL)'].count()/288*100)\n",
    "\n",
    "range_secondary_wholeday_manualmode=(manual_mode_data.between_time('0:00:00','23:59:59')[['Date','Time','Sensor Glucose (mg/dL)']].loc[(manual_mode_data['Sensor Glucose (mg/dL)']>=70) & (manual_mode_data['Sensor Glucose (mg/dL)']<=150)].groupby('Date')['Sensor Glucose (mg/dL)'].count()/288*100)\n",
    "range_secondary_daytime_manualmode=(manual_mode_data.between_time('6:00:00','23:59:59')[['Date','Time','Sensor Glucose (mg/dL)']].loc[(manual_mode_data['Sensor Glucose (mg/dL)']>=70) & (manual_mode_data['Sensor Glucose (mg/dL)']<=150)].groupby('Date')['Sensor Glucose (mg/dL)'].count()/288*100)\n",
    "range_secondary_overnight_manualmode=(manual_mode_data.between_time('0:00:00','05:59:59')[['Date','Time','Sensor Glucose (mg/dL)']].loc[(manual_mode_data['Sensor Glucose (mg/dL)']>=70) & (manual_mode_data['Sensor Glucose (mg/dL)']<=150)].groupby('Date')['Sensor Glucose (mg/dL)'].count()/288*100)"
   ]
  },
  {
   "cell_type": "code",
   "execution_count": 76,
   "metadata": {},
   "outputs": [],
   "source": [
    "#Part 5: Percent time in Hypoglycemia\n",
    "hypoglycemia_lv1_wholeday_automode=(auto_mode_data.between_time('0:00:00','23:59:59')[['Date','Time','Sensor Glucose (mg/dL)']].loc[auto_mode_data['Sensor Glucose (mg/dL)']<70].groupby('Date')['Sensor Glucose (mg/dL)'].count()/288*100)\n",
    "hypoglycemia_lv1_daytime_automode=(auto_mode_data.between_time('6:00:00','23:59:59')[['Date','Time','Sensor Glucose (mg/dL)']].loc[auto_mode_data['Sensor Glucose (mg/dL)']<70].groupby('Date')['Sensor Glucose (mg/dL)'].count()/288*100)\n",
    "hypoglycemia_lv1_overnight_automode=(auto_mode_data.between_time('0:00:00','05:59:59')[['Date','Time','Sensor Glucose (mg/dL)']].loc[auto_mode_data['Sensor Glucose (mg/dL)']<70].groupby('Date')['Sensor Glucose (mg/dL)'].count()/288*100)\n",
    "\n",
    "hypoglycemia_lv1_wholeday_manualmode=(manual_mode_data.between_time('0:00:00','23:59:59')[['Date','Time','Sensor Glucose (mg/dL)']].loc[manual_mode_data['Sensor Glucose (mg/dL)']<70].groupby('Date')['Sensor Glucose (mg/dL)'].count()/288*100)\n",
    "hypoglycemia_lv1_daytime_manualmode=(manual_mode_data.between_time('6:00:00','23:59:59')[['Date','Time','Sensor Glucose (mg/dL)']].loc[manual_mode_data['Sensor Glucose (mg/dL)']<70].groupby('Date')['Sensor Glucose (mg/dL)'].count()/288*100)\n",
    "hypoglycemia_lv1_overnight_manualmode=(manual_mode_data.between_time('0:00:00','05:59:59')[['Date','Time','Sensor Glucose (mg/dL)']].loc[manual_mode_data['Sensor Glucose (mg/dL)']<70].groupby('Date')['Sensor Glucose (mg/dL)'].count()/288*100)"
   ]
  },
  {
   "cell_type": "code",
   "execution_count": 77,
   "metadata": {},
   "outputs": [],
   "source": [
    "#Part 3: Percent time in Hyploglycemia Level 2\n",
    "hypoglycemia_lv2_wholeday_automode=(auto_mode_data.between_time('0:00:00','23:59:59')[['Date','Time','Sensor Glucose (mg/dL)']].loc[auto_mode_data['Sensor Glucose (mg/dL)']<54].groupby('Date')['Sensor Glucose (mg/dL)'].count()/288*100)\n",
    "hypoglycemia_lv2_daytime_automode=(auto_mode_data.between_time('6:00:00','23:59:59')[['Date','Time','Sensor Glucose (mg/dL)']].loc[auto_mode_data['Sensor Glucose (mg/dL)']<54].groupby('Date')['Sensor Glucose (mg/dL)'].count()/288*100)\n",
    "hypoglycemia_lv2_overnight_automode=(auto_mode_data.between_time('0:00:00','05:59:59')[['Date','Time','Sensor Glucose (mg/dL)']].loc[auto_mode_data['Sensor Glucose (mg/dL)']<54].groupby('Date')['Sensor Glucose (mg/dL)'].count()/288*100)\n",
    "\n",
    "hypoglycemia_lv2_wholeday_manualmode=(manual_mode_data.between_time('0:00:00','23:59:59')[['Date','Time','Sensor Glucose (mg/dL)']].loc[manual_mode_data['Sensor Glucose (mg/dL)']<54].groupby('Date')['Sensor Glucose (mg/dL)'].count()/288*100)\n",
    "hypoglycemia_lv2_daytime_manualmode=(manual_mode_data.between_time('6:00:00','23:59:59')[['Date','Time','Sensor Glucose (mg/dL)']].loc[manual_mode_data['Sensor Glucose (mg/dL)']<54].groupby('Date')['Sensor Glucose (mg/dL)'].count()/288*100)\n",
    "hypoglycemia_lv2_overnight_manualmode=(manual_mode_data.between_time('0:00:00','05:59:59')[['Date','Time','Sensor Glucose (mg/dL)']].loc[manual_mode_data['Sensor Glucose (mg/dL)']<54].groupby('Date')['Sensor Glucose (mg/dL)'].count()/288*100)"
   ]
  },
  {
   "cell_type": "code",
   "execution_count": 78,
   "metadata": {},
   "outputs": [],
   "source": [
    "#Storing Means in CSV File(2 X 18) \n",
    "result_df = pd.DataFrame({'Percent Time in HyperGlycemia Daytime': [hyperglycemia_daytime_manualmode.mean(axis=0),  hyperglycemia_daytime_automode.mean(axis=0)], 'Percent Time in HyperGlycemia Overnight': [hyperglycemia_overnight_manualmode.mean(axis=0), hyperglycemia_overnight_automode.mean(axis=0)], 'Percent Time in HyperGlycemia Wholeday': [hyperglycemia_wholeday_manualmode.mean(axis=0), hyperglycemia_wholeday_automode.mean(axis=0)], 'Percent time in HyperGlycemia Critical Daytime': [hyperglycemia_critical_daytime_manualmode.mean(axis=0), hyperglycemia_critical_daytime_automode.mean(axis=0)], 'Percent time in HyperGlycemia Critical Overnight':[hyperglycemia_critical_overnight_manualmode.mean(axis=0), hyperglycemia_critical_overnight_automode.mean(axis=0)], 'Percent time in HyperGlycemia Critical Wholeday':[hyperglycemia_critical_wholeday_manualmode.mean(axis=0), hyperglycemia_critical_wholeday_automode.mean(axis=0)], 'Percent time in Range Daytime': [range_daytime_manualmode.mean(axis=0), range_daytime_automode.mean(axis=0)], 'Percent time in Range Overnight':[range_overnight_manualmode.mean(axis=0), range_overnight_automode.mean(axis=0)], 'Percent time in Range Wholeday':[range_wholeday_manualmode.mean(axis=0), range_wholeday_automode.mean(axis=0)], 'Percent time in Range Secondary Daytime': [range_secondary_daytime_manualmode.mean(axis=0), range_secondary_daytime_automode.mean(axis=0)], 'Percent time in Range Secondary Overnight':[range_secondary_overnight_manualmode.mean(axis=0), range_secondary_overnight_automode.mean(axis=0)], 'Percent time in Range Secondary Wholeday':[range_secondary_wholeday_manualmode.mean(axis=0), range_secondary_wholeday_automode.mean(axis=0)], 'Percent time in HypoGlycemia Daytime': [hypoglycemia_lv1_daytime_manualmode.mean(axis=0), hypoglycemia_lv1_daytime_automode.mean(axis=0)], 'Percent time in HypoGlycemia Overnight':[hypoglycemia_lv1_overnight_manualmode.mean(axis=0), hypoglycemia_lv1_overnight_automode.mean(axis=0)], 'Percent time in HypoGlycemia Wholeday':[hypoglycemia_lv1_wholeday_manualmode.mean(axis=0), hypoglycemia_lv1_wholeday_automode.mean(axis=0)], 'Percent time in HypoGlycemia Level 2 Daytime': [hypoglycemia_lv2_daytime_manualmode.mean(axis=0), hypoglycemia_lv2_daytime_automode.mean(axis=0)], 'Percent time in HypoGlycemia Level 2 Overnight':[np.nan_to_num(hypoglycemia_lv2_overnight_manualmode.mean(axis=0)), np.nan_to_num(hypoglycemia_lv2_overnight_automode.mean(axis=0))], 'Percent time in HypoGlycemia Level 2 Wholeday':[hypoglycemia_lv2_wholeday_manualmode.mean(axis=0), hypoglycemia_lv2_wholeday_automode.mean(axis=0)]})"
   ]
  },
  {
   "cell_type": "code",
   "execution_count": 79,
   "metadata": {},
   "outputs": [],
   "source": [
    "result_df.to_csv('Results.csv',header=False,index=False)"
   ]
  },
  {
   "cell_type": "code",
   "execution_count": 80,
   "metadata": {},
   "outputs": [
    {
     "name": "stdout",
     "output_type": "stream",
     "text": [
      "   Percent Time in HyperGlycemia Daytime  \\\n",
      "0                              25.347222   \n",
      "1                              20.193142   \n",
      "\n",
      "   Percent Time in HyperGlycemia Overnight  \\\n",
      "0                                11.458333   \n",
      "1                                 6.543803   \n",
      "\n",
      "   Percent Time in HyperGlycemia Wholeday  \\\n",
      "0                               27.152778   \n",
      "1                               22.851563   \n",
      "\n",
      "   Percent time in HyperGlycemia Critical Daytime  \\\n",
      "0                                       17.187500   \n",
      "1                                        8.002646   \n",
      "\n",
      "   Percent time in HyperGlycemia Critical Overnight  \\\n",
      "0                                         10.069444   \n",
      "1                                          4.745370   \n",
      "\n",
      "   Percent time in HyperGlycemia Critical Wholeday  \\\n",
      "0                                        22.222222   \n",
      "1                                         8.680556   \n",
      "\n",
      "   Percent time in Range Daytime  Percent time in Range Overnight  \\\n",
      "0                      37.708333                        17.847222   \n",
      "1                      50.889757                        21.807796   \n",
      "\n",
      "   Percent time in Range Wholeday  Percent time in Range Secondary Daytime  \\\n",
      "0                       55.555556                                29.097222   \n",
      "1                       72.016059                                37.782118   \n",
      "\n",
      "   Percent time in Range Secondary Overnight  \\\n",
      "0                                  15.538194   \n",
      "1                                  19.027778   \n",
      "\n",
      "   Percent time in Range Secondary Wholeday  \\\n",
      "0                                 41.527778   \n",
      "1                                 55.620660   \n",
      "\n",
      "   Percent time in HypoGlycemia Daytime  \\\n",
      "0                              6.365741   \n",
      "1                              5.287247   \n",
      "\n",
      "   Percent time in HypoGlycemia Overnight  \\\n",
      "0                                1.388889   \n",
      "1                                2.314815   \n",
      "\n",
      "   Percent time in HypoGlycemia Wholeday  \\\n",
      "0                               6.828704   \n",
      "1                               5.425347   \n",
      "\n",
      "   Percent time in HypoGlycemia Level 2 Daytime  \\\n",
      "0                                      4.340278   \n",
      "1                                      1.629274   \n",
      "\n",
      "   Percent time in HypoGlycemia Level 2 Overnight  \\\n",
      "0                                             0.0   \n",
      "1                                             0.0   \n",
      "\n",
      "   Percent time in HypoGlycemia Level 2 Wholeday  \n",
      "0                                       4.340278  \n",
      "1                                       1.629274  \n"
     ]
    }
   ],
   "source": [
    "print(result_df)"
   ]
  },
  {
   "cell_type": "code",
   "execution_count": null,
   "metadata": {},
   "outputs": [],
   "source": []
  }
 ],
 "metadata": {
  "kernelspec": {
   "display_name": "Python 3",
   "language": "python",
   "name": "python3"
  },
  "language_info": {
   "codemirror_mode": {
    "name": "ipython",
    "version": 3
   },
   "file_extension": ".py",
   "mimetype": "text/x-python",
   "name": "python",
   "nbconvert_exporter": "python",
   "pygments_lexer": "ipython3",
   "version": "3.8.5"
  }
 },
 "nbformat": 4,
 "nbformat_minor": 4
}
